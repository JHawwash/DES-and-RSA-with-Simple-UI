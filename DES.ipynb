{
 "cells": [
  {
   "cell_type": "code",
   "execution_count": 475,
   "metadata": {},
   "outputs": [],
   "source": [
    "import tkinter as tk\n",
    "from tkinter import ttk, messagebox"
   ]
  },
  {
   "cell_type": "markdown",
   "metadata": {},
   "source": [
    "### **Initial Permutation Table (IP)** "
   ]
  },
  {
   "cell_type": "code",
   "execution_count": 476,
   "metadata": {},
   "outputs": [],
   "source": [
    "IP = [ \n",
    "       58,  50,  42,  34,  26,  18,  10,  2,\n",
    "       60,  52,  44,  36,  28,  20,  12,  4,\n",
    "       62,  54,  46,  38,  30,  22,  14,  6,\n",
    "       64,  56,  48,  40,  32,  24,  16,  8,\n",
    "       57,  49,  41,  33,  25,  17,   9,  1,\n",
    "       59,  51,  43,  35,  27,  19,  11,  3,\n",
    "       61,  53,  45,  37,  29,  21,  13,  5,\n",
    "       63,  55,  47,  39,  31,  23,  15,  7 \n",
    "    ]"
   ]
  },
  {
   "cell_type": "markdown",
   "metadata": {},
   "source": [
    "### **Final Permutation Table (IP^-1)** "
   ]
  },
  {
   "cell_type": "code",
   "execution_count": 477,
   "metadata": {},
   "outputs": [],
   "source": [
    "FP = [\n",
    "       40,  8,  48,  16,  56,  24,  64,  32,\n",
    "       39,  7,  47,  15,  55,  23,  63,  31,\n",
    "       38,  6,  46,  14,  54,  22,  62,  30,\n",
    "       37,  5,  45,  13,  53,  21,  61,  29,\n",
    "       36,  4,  44,  12,  52,  20,  60,  28,\n",
    "       35,  3,  43,  11,  51,  19,  59,  27,\n",
    "       34,  2,  42,  10,  50,  18,  58,  26,\n",
    "       33,  1,  41,   9,  49,  17,  57,  25 \n",
    "     ]"
   ]
  },
  {
   "cell_type": "markdown",
   "metadata": {},
   "source": [
    "### **Expansion Table** "
   ]
  },
  {
   "cell_type": "code",
   "execution_count": 478,
   "metadata": {},
   "outputs": [],
   "source": [
    "E = [ \n",
    "      32,   1,   2,   3,   4,   5,\n",
    "       4,   5,   6,   7,   8,   9,\n",
    "       8,   9,  10,  11,  12,   13,\n",
    "      12,  13,  14,  15,  16,   17,\n",
    "      16,  17,  18,  19,  20,   21,\n",
    "      20,  21,  22,  23,  24,   25,\n",
    "      24,  25,  26,  27,  28,   29,\n",
    "      28,  29,  30,  31,  32,    1 \n",
    "    ]"
   ]
  },
  {
   "cell_type": "markdown",
   "metadata": {},
   "source": [
    "### **S-Box Table**\n"
   ]
  },
  {
   "cell_type": "code",
   "execution_count": 479,
   "metadata": {},
   "outputs": [],
   "source": [
    "S = [\n",
    "  \n",
    "  # S1\n",
    "  [\n",
    "    [ 14,  4, 13, 1,  2, 15, 11,  8,  3, 10,  6, 12,  5,  9, 0,  7 ],\n",
    "    [  0, 15,  7, 4, 14,  2, 13,  1, 10,  6, 12, 11,  9,  5, 3,  8 ],\n",
    "    [  4,  1, 14, 8, 13,  6,  2, 11, 15, 12,  9,  7,  3, 10, 5,  0 ],\n",
    "    [ 15, 12,  8, 2,  4,  9,  1,  7,  5, 11,  3, 14, 10,  0, 6, 13 ]\n",
    "  ],\n",
    "  \n",
    "\n",
    "  # S2\n",
    "  [\n",
    "    [ 15, 1, 8, 14,  6, 11,  3,  4,  9, 7,  2, 13, 12, 0,  5, 10 ],\n",
    "    [ 3, 13, 4,  7, 15,  2,  8, 14, 12, 0,  1, 10,  6, 9, 11,  5 ],\n",
    "    [ 0, 14, 7, 11, 10,  4, 13,  1,  5, 8, 12,  6,  9, 3,  2, 15 ],\n",
    "    [ 13, 8, 10, 1,  3, 15,  4,  2, 11, 6,  7, 12,  0, 5, 14,  9 ]\n",
    "  ],\n",
    "\n",
    "  # S3\n",
    "  [\n",
    "    [ 10, 0, 9,  14, 6,  3, 15,  5,  1, 13, 12,  7, 11,  4,  2,  8 ],\n",
    "    [ 13, 7, 0,  9,  3,  4,  6, 10,  2,  8,  5, 14, 12, 11, 15,  1 ],\n",
    "    [ 13, 6, 4,  9,  8, 15,  3,  0, 11,  1,  2, 12,  5, 10, 14,  7 ],\n",
    "    [ 1, 10, 13, 0,  6,  9,  8,  7,  4, 15, 14,  3, 11,  5,  2, 12 ],\n",
    "  ],\n",
    "\n",
    "  # S4\n",
    "  [\n",
    "    [ 7, 13, 14, 3,  0,  6,  9, 10, 1, 2, 8, 5, 11, 12, 4, 15 ],\n",
    "    [ 13, 8, 11, 5,  6, 15,  0, 3, 4, 7, 2, 12, 1, 10, 14, 9 ],\n",
    "    [ 10, 6,  9, 0, 12, 11,  7, 13, 15, 1, 3, 14, 5, 2, 8, 4 ],\n",
    "    [ 3, 15,  0, 6, 10,  1, 13, 8, 9, 4, 5, 11, 12, 7, 2, 14 ]\n",
    "  ],\n",
    "  \n",
    "  # S5\n",
    "  [\n",
    "    [ 2, 12, 4, 1, 7, 10, 11, 6, 8, 5, 3, 15, 13, 0, 14, 9 ],\n",
    "    [ 14, 11, 2, 12, 4, 7, 13, 1, 5, 0, 15, 10, 3, 9, 8, 6 ],\n",
    "    [ 4, 2, 1, 11, 10, 13, 7, 8, 15, 9, 12, 5, 6, 3, 0, 14 ],\n",
    "    [ 11, 8, 12, 7, 1, 14, 2, 13, 6, 15, 0, 9, 10, 4, 5, 3 ]\n",
    "  ],\n",
    "  \n",
    "  # S6\n",
    "  [\n",
    "    [ 12, 1, 10, 15, 9, 2, 6, 8, 0, 13, 3, 4, 14, 7, 5, 11 ],\n",
    "    [ 10, 15, 4, 2, 7, 12, 9, 5, 6, 1, 13, 14, 0, 11, 3, 8 ],\n",
    "    [ 9, 14, 15, 5, 2, 8, 12, 3, 7, 0, 4, 10, 1, 13, 11, 6 ],\n",
    "    [ 4, 3, 2, 12, 9, 5, 15, 10, 11, 14, 1, 7, 6, 0, 8, 13 ]\n",
    "  ],\n",
    "  \n",
    "  # S7\n",
    "  [\n",
    "    [ 4, 11, 2, 14, 15, 0, 8, 13, 3, 12, 9, 7, 5, 10, 6, 1 ],\n",
    "    [ 13, 0, 11, 7, 4, 9, 1, 10, 14, 3, 5, 12, 2, 15, 8, 6 ],\n",
    "    [ 1, 4, 11, 13, 12, 3, 7, 14, 10, 15, 6, 8, 0, 5, 9, 2 ],\n",
    "    [ 6, 11, 13, 8, 1, 4, 10, 7, 9, 5, 0, 15, 14, 2, 3, 12 ]\n",
    "  ],\n",
    "  \n",
    "  # S8\n",
    "  [\n",
    "    [ 13, 2, 8, 4, 6, 15, 11, 1, 10, 9, 3, 14, 5, 0, 12, 7 ],\n",
    "    [ 1, 15, 13, 8, 10, 3, 7, 4, 12, 5, 6, 11, 0, 14, 9, 2 ],\n",
    "    [ 7, 11, 4, 1, 9, 12, 14, 2, 0, 6, 10, 13, 15, 3, 5, 8 ],\n",
    "    [ 2, 1, 14, 7, 4, 10, 8, 13, 15, 12, 9, 0, 3, 5, 6, 11 ]\n",
    "  ]\n",
    "]"
   ]
  },
  {
   "cell_type": "markdown",
   "metadata": {},
   "source": [
    "### **Straight Permutation Table (Permutation P)**"
   ]
  },
  {
   "cell_type": "code",
   "execution_count": 480,
   "metadata": {},
   "outputs": [],
   "source": [
    "P = [\n",
    "      16,  7, 20, 21, 29, 12, 28, 17,\n",
    "       1, 15, 23, 26,  5, 18, 31, 10,\n",
    "       2,  8, 24, 14, 32, 27,  3,  9,\n",
    "      19, 13, 30,  6, 22, 11,  4, 25\n",
    "    ]"
   ]
  },
  {
   "cell_type": "markdown",
   "metadata": {},
   "source": [
    "### **Key Permuted Choice 1 (PC-1)**"
   ]
  },
  {
   "cell_type": "code",
   "execution_count": 481,
   "metadata": {},
   "outputs": [],
   "source": [
    "PC1 = [\n",
    "    57,  49, 41, 33, 25, 17,  9,\n",
    "     1,  58, 50, 42, 34, 26, 18,\n",
    "    10,   2, 59, 51, 43, 35, 27,\n",
    "    19,  11,  3, 60, 52, 44, 36,\n",
    "    63,  55, 47, 39, 31, 23, 15,\n",
    "     7,  62, 54, 46, 38, 30, 22,\n",
    "    14,   6, 61, 53, 45, 37, 29,\n",
    "    21,  13,  5, 28, 20, 12,  4\n",
    "]"
   ]
  },
  {
   "cell_type": "markdown",
   "metadata": {},
   "source": [
    "### **Key Permuted Choice 2 (PC-2)**"
   ]
  },
  {
   "cell_type": "code",
   "execution_count": 482,
   "metadata": {},
   "outputs": [],
   "source": [
    "PC2 = [\n",
    "    14, 17, 11, 24,  1,  5,  3, 28,\n",
    "    15,  6, 21, 10, 23, 19, 12,  4,\n",
    "    26,  8, 16,  7, 27, 20, 13,  2,\n",
    "    41, 52, 31, 37, 47, 55, 30, 40,\n",
    "    51, 45, 33, 48, 44, 49, 39, 56,\n",
    "    34, 53, 46, 42, 50, 36, 29, 32\n",
    "]"
   ]
  },
  {
   "cell_type": "markdown",
   "metadata": {},
   "source": [
    "### **Left Shifts for Key Schedule**"
   ]
  },
  {
   "cell_type": "code",
   "execution_count": 483,
   "metadata": {},
   "outputs": [],
   "source": [
    "SHIFTS = [1, 1, 2, 2, 2, 2, 2, 2, 1, 2, 2, 2, 2, 2, 2, 1]"
   ]
  },
  {
   "cell_type": "markdown",
   "metadata": {},
   "source": [
    "### **Functions for DES**"
   ]
  },
  {
   "cell_type": "code",
   "execution_count": 484,
   "metadata": {},
   "outputs": [],
   "source": [
    "# permutes the block according to the table\n",
    "# for every i in table, block[i - 1] is appended to the result\n",
    "\n",
    "def permute(block, table):\n",
    "    return [block[i - 1] for i in table]"
   ]
  },
  {
   "cell_type": "code",
   "execution_count": 485,
   "metadata": {},
   "outputs": [],
   "source": [
    "# splits the 64-bit block into two 32-bit blocks, returns left and right blocks as tuple\n",
    "def split_block(block):\n",
    "    return block[:32], block[32:]"
   ]
  },
  {
   "cell_type": "code",
   "execution_count": 486,
   "metadata": {},
   "outputs": [],
   "source": [
    "# Performs XOR operation on two blocks of bits\n",
    "# zip function is used to iterate over two lists simultaneously\n",
    "# zip creates a tuple of elements with same index in both lists (0, 0), (1, 1), (2, 2) ...\n",
    "# ^ is the XOR operator in python\n",
    "def xor(bits1, bits2):\n",
    "    return [b1 ^ b2 for b1, b2 in zip(bits1, bits2)]"
   ]
  },
  {
   "cell_type": "code",
   "execution_count": 487,
   "metadata": {},
   "outputs": [],
   "source": [
    "# performs s-box substitution on the 64-bit block\n",
    "# loops over each s-box, takes 6 bits from the block, calculates row and column, gets sbox value\n",
    "# converts sbox value to 4 bits (binary) and appends to the output\n",
    "def sbox_substitution(block):\n",
    "    output = []\n",
    "    for i in range(8):\n",
    "        chunk = block[i*6:(i+1)*6]\n",
    "        row = (chunk[0] << 1) + chunk[5]\n",
    "        col = (chunk[1] << 3) + (chunk[2] << 2) + (chunk[3] << 1) + chunk[4]\n",
    "        sbox_value = S[i][row][col]\n",
    "        # shifts 1st bit to 3rd position, 2nd bit to 2nd position, 3rd bit to 1st position, 4th bit to 0th position\n",
    "        output.extend([(sbox_value >> 3) & 1, (sbox_value >> 2) & 1, (sbox_value >> 1) & 1, sbox_value & 1])\n",
    "    return output"
   ]
  },
  {
   "cell_type": "code",
   "execution_count": 488,
   "metadata": {},
   "outputs": [],
   "source": [
    "# shifts the bits to the left by n positions, used in key generation\n",
    "def shift_left(bits, n):\n",
    "    return bits[n:] + bits[:n]"
   ]
  },
  {
   "cell_type": "code",
   "execution_count": 489,
   "metadata": {},
   "outputs": [],
   "source": [
    "# generates the subkeys from the key\n",
    "def key_schedule(key):\n",
    "    # permute the key using PC1 table\n",
    "    key = permute(key, PC1)\n",
    "    \n",
    "    # split the key into two 28-bit blocks\n",
    "    C, D = split_block(key)\n",
    "    \n",
    "    # generate 16 subkeys\n",
    "    subkeys = []\n",
    "    for shift in SHIFTS:\n",
    "        C = shift_left(C, shift)\n",
    "        D = shift_left(D, shift)\n",
    "        subkeys.append(permute(C + D, PC2))\n",
    "    return subkeys"
   ]
  },
  {
   "cell_type": "code",
   "execution_count": 490,
   "metadata": {},
   "outputs": [],
   "source": [
    "def feistel_function(R, K):\n",
    "    R = permute(R, E) # expand R to 48 bits\n",
    "    R = xor(R, K) # xor with key\n",
    "    R = sbox_substitution(R) # substitute with s-boxes\n",
    "    R = permute(R, P) # permute with P (straight permutation)\n",
    "    return R "
   ]
  },
  {
   "cell_type": "code",
   "execution_count": 491,
   "metadata": {},
   "outputs": [],
   "source": [
    "def des_round(L, R, K):\n",
    "    L_new = R # swaps L and R\n",
    "    R_new = xor(L, feistel_function(R, K)) # L = R, R = L xor f(R, K)\n",
    "    return L_new, R_new # returns the new L and R"
   ]
  },
  {
   "cell_type": "code",
   "execution_count": null,
   "metadata": {},
   "outputs": [],
   "source": [
    "def des_encrypt(block, key):\n",
    "    # permute the block using IP initial permutation table\n",
    "    block = permute(block, IP)\n",
    "    \n",
    "    # split the block into two 32-bit blocks\n",
    "    L, R = split_block(block)\n",
    "    \n",
    "    # generate subkeys\n",
    "    subkeys = key_schedule(key)\n",
    "    \n",
    "    # perform 16 rounds\n",
    "    for K in subkeys:\n",
    "        L, R = des_round(L, R, K)\n",
    "    \n",
    "    # swap the left and right blocks, and permute using FP table (inverse of IP table)\n",
    "    cipher_block = permute(R + L, FP)\n",
    "    \n",
    "    # return the cipher block\n",
    "    return cipher_block"
   ]
  },
  {
   "cell_type": "code",
   "execution_count": 493,
   "metadata": {},
   "outputs": [],
   "source": [
    "def des_decrypt(block, key):\n",
    "    # permute the block using IP initial permutation table\n",
    "    block = permute(block, IP)\n",
    "    \n",
    "    # split the block into two 32-bit blocks\n",
    "    L, R = split_block(block)\n",
    "    \n",
    "    # generate subkeys\n",
    "    subkeys = key_schedule(key)\n",
    "    \n",
    "    # perform 16 rounds with reversed subkeys\n",
    "    for K in reversed(subkeys):\n",
    "        L, R = des_round(L, R, K)\n",
    "        \n",
    "    # swap the left and right blocks, and permute using FP table (inverse of IP table)\n",
    "    plain_block = permute(R + L, FP)\n",
    "    \n",
    "    # return the plain block\n",
    "    return plain_block"
   ]
  },
  {
   "cell_type": "code",
   "execution_count": 494,
   "metadata": {},
   "outputs": [],
   "source": [
    "# converts a string to a binary array\n",
    "def string_to_bit_array(string):\n",
    "    array = list()\n",
    "    for char in string:\n",
    "        binval = bin(ord(char))[2:].rjust(8, '0')\n",
    "        array.extend([int(x) for x in list(binval)])\n",
    "    return array"
   ]
  },
  {
   "cell_type": "code",
   "execution_count": 495,
   "metadata": {},
   "outputs": [],
   "source": [
    "# converts a binary array to a string\n",
    "def bit_array_to_string(array):\n",
    "    res = ''.join([chr(int(''.join([str(x) for x in array[i:i+8]]), 2)) for i in range(0, len(array), 8)])\n",
    "    return res"
   ]
  },
  {
   "cell_type": "code",
   "execution_count": 496,
   "metadata": {},
   "outputs": [],
   "source": [
    "# converts a hex string to a binary array\n",
    "def hex_to_bit_array(hex_str):\n",
    "    bit_array = []\n",
    "    for char in hex_str:\n",
    "        binval = bin(int(char, 16))[2:].rjust(4, '0')\n",
    "        bit_array.extend([int(x) for x in list(binval)])\n",
    "    return bit_array"
   ]
  },
  {
   "cell_type": "code",
   "execution_count": 497,
   "metadata": {},
   "outputs": [],
   "source": [
    "# converts a binary array to a hex string\n",
    "def bit_array_to_hex(array):\n",
    "    hex_str = ''\n",
    "    for i in range(0, len(array), 4):\n",
    "        hex_str += hex(int(''.join([str(x) for x in array[i:i+4]]), 2))[2:]\n",
    "    return hex_str"
   ]
  },
  {
   "cell_type": "code",
   "execution_count": 498,
   "metadata": {},
   "outputs": [],
   "source": [
    "# pads the plaintext to make its length a multiple of 8 bytes (64 bits)\n",
    "def pad_plaintext(plaintext):\n",
    "    if not plaintext:\n",
    "        padding_len = 8  # Pad with 8 spaces if the plaintext is empty\n",
    "    else:\n",
    "        padding_len = 8 - (len(plaintext) % 8)\n",
    "        if padding_len == 8:\n",
    "            padding_len = 0  # No padding needed if the length is already a multiple of 8\n",
    "\n",
    "    padding = ' ' * padding_len\n",
    "    padded_plaintext = plaintext + padding\n",
    "    return padded_plaintext"
   ]
  },
  {
   "cell_type": "code",
   "execution_count": 499,
   "metadata": {},
   "outputs": [],
   "source": [
    "# unpads the plaintext by removing the trailing spaces\n",
    "def unpad_plaintext(padded_plaintext):\n",
    "    unpadded_plaintext = padded_plaintext.rstrip(' ')\n",
    "    return unpadded_plaintext"
   ]
  },
  {
   "cell_type": "code",
   "execution_count": null,
   "metadata": {},
   "outputs": [],
   "source": [
    "# encrypts the plaintext using the key\n",
    "def encrypt_text(plaintext, key, plaintext_format, ciphertext_format):\n",
    "    \n",
    "    # convert the plaintext and key to binary arrays based on the input format\n",
    "    if plaintext_format == 'str':\n",
    "        plaintext_bits = string_to_bit_array(plaintext)\n",
    "    elif plaintext_format == 'hex':\n",
    "        plaintext_bits = hex_to_bit_array(plaintext)\n",
    "    elif plaintext_format == 'bin':\n",
    "        plaintext_bits = [int(bit) for bit in plaintext]\n",
    "    else:\n",
    "        return None, None\n",
    "\n",
    "    # convert the key to a binary array\n",
    "    key_bits = string_to_bit_array(key)\n",
    "    \n",
    "    # pad the plaintext\n",
    "    padded_plaintext = pad_plaintext(bit_array_to_string(plaintext_bits))\n",
    "    \n",
    "    # convert the padded plaintext to a binary array\n",
    "    plaintext_bits = string_to_bit_array(padded_plaintext)\n",
    "\n",
    "    # encrypt the plaintext\n",
    "    ciphertext_bits = [] # stores the encrypted bits\n",
    "    for i in range(0, len(plaintext_bits), 64):\n",
    "        # encrypt each 64-bit block of the plaintext\n",
    "        plaintext_block = plaintext_bits[i:i+64]\n",
    "        \n",
    "        # encrypt the block using DES\n",
    "        cipher_block = des_encrypt(plaintext_block, key_bits)\n",
    "        \n",
    "        # append the encrypted block to the ciphertext\n",
    "        ciphertext_bits.extend(cipher_block)\n",
    "\n",
    "    # convert the ciphertext to the output format \n",
    "    if ciphertext_format == 'str':\n",
    "        ciphertext = bit_array_to_string(ciphertext_bits)\n",
    "    elif ciphertext_format == 'hex':\n",
    "        ciphertext = bit_array_to_hex(ciphertext_bits)\n",
    "    elif ciphertext_format == 'bin':\n",
    "        ciphertext = ''.join(str(bit) for bit in ciphertext_bits)\n",
    "    else:\n",
    "        return None, None\n",
    "\n",
    "    # return the ciphertext and the binary array\n",
    "    return ciphertext, ciphertext_bits"
   ]
  },
  {
   "cell_type": "code",
   "execution_count": 501,
   "metadata": {},
   "outputs": [],
   "source": [
    "# decrypts the ciphertext using the key\n",
    "def decrypt_text(ciphertext, key, ciphertext_format, plaintext_format):\n",
    "    \n",
    "    # convert the key to a binary array\n",
    "    key_bits = string_to_bit_array(key)\n",
    "\n",
    "    # convert the ciphertext to a binary array based on the input format\n",
    "    if ciphertext_format == 'str':\n",
    "        ciphertext_bits = string_to_bit_array(ciphertext)\n",
    "    elif ciphertext_format == 'hex':\n",
    "        ciphertext_bits = hex_to_bit_array(ciphertext)\n",
    "    elif ciphertext_format == 'bin':\n",
    "        ciphertext_bits = [int(bit) for bit in ciphertext]\n",
    "    else:\n",
    "        return None\n",
    "\n",
    "    # decrypt the ciphertext\n",
    "    plaintext_bits = [] # stores the decrypted plaintext as a binary array\n",
    "    for i in range(0, len(ciphertext_bits), 64):\n",
    "        # decrypt each 64-bit block of the ciphertext\n",
    "        cipher_block = ciphertext_bits[i:i+64]\n",
    "        \n",
    "        # decrypt the block using DES\n",
    "        plaintext_block = des_decrypt(cipher_block, key_bits)\n",
    "        \n",
    "        # append the decrypted block to the plaintext\n",
    "        plaintext_bits.extend(plaintext_block)\n",
    "\n",
    "    # convert the plaintext to the output format\n",
    "    padded_plaintext = bit_array_to_string(plaintext_bits)\n",
    "    \n",
    "    # unpad the plaintext\n",
    "    unpadded_plaintext = unpad_plaintext(padded_plaintext)\n",
    "\n",
    "    # convert the plaintext to the output format\n",
    "    if plaintext_format == 'str':\n",
    "        plaintext = unpadded_plaintext\n",
    "    elif plaintext_format == 'hex':\n",
    "        plaintext = bit_array_to_hex(string_to_bit_array(unpadded_plaintext))\n",
    "    elif plaintext_format == 'bin':\n",
    "        plaintext = ''.join(str(bit) for bit in string_to_bit_array(unpadded_plaintext))\n",
    "    else:\n",
    "        return None\n",
    "\n",
    "    # return the plaintext\n",
    "    return plaintext"
   ]
  },
  {
   "cell_type": "code",
   "execution_count": 502,
   "metadata": {},
   "outputs": [],
   "source": [
    "# prepares the key, makes sure it is 8 bytes long\n",
    "def prepare_key(key):\n",
    "    # if the key is longer than 8 bytes, truncate it\n",
    "    if len(key) > 8:\n",
    "        key = key[:8]\n",
    "        \n",
    "    # if the key is shorter than 8 bytes, pad it with null bytes\n",
    "    elif len(key) < 8:\n",
    "        key = key.ljust(8, '\\0')\n",
    "    return key"
   ]
  },
  {
   "cell_type": "code",
   "execution_count": 503,
   "metadata": {},
   "outputs": [],
   "source": [
    "# checks if the input string is in its correct format\n",
    "def validate_input(input_str, input_format):\n",
    "    \n",
    "    # check if the input string is in the correct format\n",
    "    if input_format == 'str':\n",
    "        return True\n",
    "    \n",
    "    elif input_format == 'hex':\n",
    "        try:\n",
    "            int(input_str, 16)\n",
    "            return True\n",
    "        except ValueError:\n",
    "            return False\n",
    "    \n",
    "    elif input_format == 'bin':\n",
    "        for char in input_str:\n",
    "            if char not in '01':\n",
    "                return False\n",
    "        return True\n",
    "    return False"
   ]
  },
  {
   "cell_type": "markdown",
   "metadata": {},
   "source": [
    "### **GUI Functions**"
   ]
  },
  {
   "cell_type": "code",
   "execution_count": 504,
   "metadata": {},
   "outputs": [],
   "source": [
    "def get_mode():\n",
    "   mode = mode_var.get()\n",
    "   if mode == \"Encrypt\":\n",
    "       encrypt_mode()\n",
    "   else:\n",
    "       decrypt_mode()\n",
    "       \n",
    "def encrypt_mode():\n",
    "    key = key_entry.get()\n",
    "    if len(key) != 8:\n",
    "        messagebox.showerror(\"Error\", \"Invalid key length. Key must be 8 characters long.\")\n",
    "        return\n",
    "\n",
    "    plaintext = plaintext_entry.get()\n",
    "    plaintext_format = plaintext_format_var.get()\n",
    "    ciphertext_format = ciphertext_format_var.get()\n",
    "\n",
    "    if not validate_input(plaintext, plaintext_format):\n",
    "        messagebox.showerror(\"Error\", f\"Invalid plaintext format for '{plaintext_format}' format.\")\n",
    "        return\n",
    "\n",
    "    key = prepare_key(key)\n",
    "    ciphertext, ciphertext_bits = encrypt_text(plaintext, key, plaintext_format, ciphertext_format)\n",
    "\n",
    "    if ciphertext is None:\n",
    "        messagebox.showerror(\"Error\", \"Invalid input format.\")\n",
    "        return\n",
    "\n",
    "    ciphertext_output.config(state='normal')\n",
    "    ciphertext_output.delete('1.0', tk.END)\n",
    "    if ciphertext_format == 'str':\n",
    "        ciphertext_output.insert(tk.END, ciphertext)\n",
    "    else:\n",
    "        ciphertext_output.insert(tk.END, ''.join(ciphertext[i:i+64] for i in range(0, len(ciphertext), 64)))\n",
    "    ciphertext_output.config(state='disabled')\n",
    "    \n",
    "    \n",
    "       \n",
    "\n",
    "def decrypt_mode():\n",
    "   key = key_entry.get()\n",
    "   if len(key) != 8:\n",
    "       messagebox.showerror(\"Error\", \"Invalid key length. Key must be 8 characters long.\")\n",
    "       return\n",
    "\n",
    "   ciphertext = ciphertext_entry.get()\n",
    "   ciphertext_format = ciphertext_format_var.get()\n",
    "   plaintext_format = plaintext_format_var.get()\n",
    "\n",
    "   if not validate_input(ciphertext, ciphertext_format):\n",
    "       messagebox.showerror(\"Error\", f\"Invalid ciphertext format for '{ciphertext_format}' format.\")\n",
    "       return\n",
    "\n",
    "   key = prepare_key(key)\n",
    "   plaintext = decrypt_text(ciphertext, key, ciphertext_format, plaintext_format)\n",
    "\n",
    "   if plaintext is None:\n",
    "       messagebox.showerror(\"Error\", \"Invalid input format.\")\n",
    "       return\n",
    "\n",
    "   if plaintext_format == 'str':\n",
    "       plaintext_output.config(state='normal')\n",
    "       plaintext_output.delete('1.0', tk.END)\n",
    "       plaintext_output.insert(tk.END, plaintext)\n",
    "       plaintext_output.config(state='disabled')\n",
    "   else:\n",
    "       plaintext_output.config(state='normal')\n",
    "       plaintext_output.delete('1.0', tk.END)\n",
    "       plaintext_output.insert(tk.END, '\\n'.join([plaintext[i:i+64] for i in range(0, len(plaintext), 64)]))\n",
    "       plaintext_output.config(state='disabled')\n",
    "\n",
    "\n",
    "# Create the main window\n",
    "root = tk.Tk()\n",
    "root.title(\"DES Encryption/Decryption\")\n",
    "\n",
    "# Create the mode selection frame\n",
    "mode_frame = tk.Frame(root)\n",
    "mode_frame.pack(pady=10)\n",
    "\n",
    "mode_var = tk.StringVar()\n",
    "mode_var.set(\"Encrypt\")\n",
    "\n",
    "encrypt_radio = tk.Radiobutton(mode_frame, text=\"Encrypt\", variable=mode_var, value=\"Encrypt\", command=get_mode)\n",
    "encrypt_radio.pack(side=tk.LEFT)\n",
    "\n",
    "decrypt_radio = tk.Radiobutton(mode_frame, text=\"Decrypt\", variable=mode_var, value=\"Decrypt\", command=get_mode)\n",
    "decrypt_radio.pack(side=tk.LEFT)\n",
    "\n",
    "# Create the input frame\n",
    "input_frame = tk.Frame(root)\n",
    "input_frame.pack(pady=10)\n",
    "\n",
    "key_label = tk.Label(input_frame, text=\"Key (8 characters):\")\n",
    "key_label.pack(side=tk.LEFT)\n",
    "\n",
    "key_entry = tk.Entry(input_frame)\n",
    "key_entry.pack(side=tk.LEFT)\n",
    "\n",
    "# Create the format selection frame\n",
    "format_frame = tk.Frame(root)\n",
    "format_frame.pack(pady=10)\n",
    "\n",
    "plaintext_format_label = tk.Label(format_frame, text=\"Plaintext Format:\")\n",
    "plaintext_format_label.pack(side=tk.LEFT)\n",
    "\n",
    "plaintext_format_var = tk.StringVar()\n",
    "plaintext_format_var.set(\"str\")\n",
    "\n",
    "str_radio = tk.Radiobutton(format_frame, text=\"String\", variable=plaintext_format_var, value=\"str\")\n",
    "str_radio.pack(side=tk.LEFT)\n",
    "\n",
    "hex_radio = tk.Radiobutton(format_frame, text=\"Hex\", variable=plaintext_format_var, value=\"hex\")\n",
    "hex_radio.pack(side=tk.LEFT)\n",
    "\n",
    "bin_radio = tk.Radiobutton(format_frame, text=\"Binary\", variable=plaintext_format_var, value=\"bin\")\n",
    "bin_radio.pack(side=tk.LEFT)\n",
    "\n",
    "ciphertext_format_label = tk.Label(format_frame, text=\"Ciphertext Format:\")\n",
    "ciphertext_format_label.pack(side=tk.LEFT)\n",
    "\n",
    "ciphertext_format_var = tk.StringVar()\n",
    "ciphertext_format_var.set(\"hex\")\n",
    "\n",
    "hex_radio = tk.Radiobutton(format_frame, text=\"Hex\", variable=ciphertext_format_var, value=\"hex\")\n",
    "hex_radio.pack(side=tk.LEFT)\n",
    "\n",
    "bin_radio = tk.Radiobutton(format_frame, text=\"Binary\", variable=ciphertext_format_var, value=\"bin\")\n",
    "bin_radio.pack(side=tk.LEFT)\n",
    "\n",
    "# Create the input/output frame\n",
    "io_frame = tk.Frame(root)\n",
    "io_frame.pack(pady=10)\n",
    "\n",
    "plaintext_label = tk.Label(io_frame, text=\"Plaintext:\")\n",
    "plaintext_label.pack(side=tk.TOP)\n",
    "\n",
    "plaintext_entry = tk.Entry(io_frame, width=50)\n",
    "plaintext_entry.pack(side=tk.TOP)\n",
    "\n",
    "ciphertext_label = tk.Label(io_frame, text=\"Ciphertext:\")\n",
    "ciphertext_label.pack(side=tk.TOP)\n",
    "\n",
    "ciphertext_entry = tk.Entry(io_frame, width=50)\n",
    "ciphertext_entry.pack(side=tk.TOP)\n",
    "\n",
    "plaintext_output = tk.Text(io_frame, width=50, height=5, state='disabled')\n",
    "plaintext_output.pack(side=tk.TOP)\n",
    "\n",
    "ciphertext_output = tk.Text(io_frame, width=50, height=5, state='disabled')\n",
    "ciphertext_output.pack(side=tk.TOP)\n",
    "\n",
    "# Run the main event loop\n",
    "root.mainloop()"
   ]
  }
 ],
 "metadata": {
  "kernelspec": {
   "display_name": "Python 3",
   "language": "python",
   "name": "python3"
  },
  "language_info": {
   "codemirror_mode": {
    "name": "ipython",
    "version": 3
   },
   "file_extension": ".py",
   "mimetype": "text/x-python",
   "name": "python",
   "nbconvert_exporter": "python",
   "pygments_lexer": "ipython3",
   "version": "3.12.0"
  }
 },
 "nbformat": 4,
 "nbformat_minor": 2
}
