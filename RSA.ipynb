{
 "cells": [
  {
   "cell_type": "markdown",
   "metadata": {},
   "source": [
    "### **Importing Necessary Libraries**"
   ]
  },
  {
   "cell_type": "code",
   "execution_count": 17,
   "metadata": {},
   "outputs": [],
   "source": [
    "import tkinter as tk # GUI\n",
    "from tkinter import messagebox # message box\n",
    "import random # generating random numbers"
   ]
  },
  {
   "cell_type": "markdown",
   "metadata": {},
   "source": [
    "### **RSA Functions**"
   ]
  },
  {
   "cell_type": "code",
   "execution_count": 18,
   "metadata": {},
   "outputs": [],
   "source": [
    "# Calculates GCD of two numbers using Euclidean algorithm\n",
    "def gcd(a, b):\n",
    "    while b != 0:\n",
    "        a, b = b, a % b\n",
    "        # when the remainder of a / b is 0, b is the GCD\n",
    "    return a"
   ]
  },
  {
   "cell_type": "code",
   "execution_count": null,
   "metadata": {},
   "outputs": [],
   "source": [
    "# Calculates multiplicative inverse of two numbers\n",
    "# finds modular inverse of e mod phi\n",
    "# used to find the decryption key d\n",
    "def multiplicative_inverse(e, phi):\n",
    "    d = 0 # the modular inverse\n",
    "    x1 = 0 # temporary variable\n",
    "    x2 = 1 # temporary variable\n",
    "    y1 = 1 # temporary variable\n",
    "    temp_phi = phi # temporary variable\n",
    "\n",
    "    while e > 0:\n",
    "        # temp1 is the quotient of phi and e\n",
    "        temp1 = temp_phi // e\n",
    "        \n",
    "        # temp2 is the remainder of phi and e\n",
    "        temp2 = temp_phi - temp1 * e\n",
    "        \n",
    "        # temp_phi is now e\n",
    "        temp_phi = e\n",
    "        \n",
    "        # e is now temp2\n",
    "        e = temp2\n",
    "\n",
    "        # updates the coefficient for e\n",
    "        x = x2 - temp1 * x1\n",
    "        \n",
    "        # updates the coefficient for phi\n",
    "        y = d - temp1 * y1\n",
    "\n",
    "        # updates the temporary variables\n",
    "        x2 = x1\n",
    "        x1 = x\n",
    "        d = y1\n",
    "        y1 = y\n",
    "\n",
    "    # if phi is 1 --> e and phi are coprime, and the modular inverse exists\n",
    "    if temp_phi == 1:\n",
    "        return d + phi"
   ]
  },
  {
   "cell_type": "code",
   "execution_count": 20,
   "metadata": {},
   "outputs": [],
   "source": [
    "# Checks if a number is prime\n",
    "def is_prime(num):\n",
    "    # 0 and 1 are not prime\n",
    "    if num < 2:\n",
    "        return False\n",
    "    \n",
    "    # checks if num is divisible by any number from 2 to the square root of num (optimized)\n",
    "    for n in range(2, int(num ** 0.5) + 2): \n",
    "        if num % n == 0:\n",
    "            return False\n",
    "    return True"
   ]
  },
  {
   "cell_type": "code",
   "execution_count": 21,
   "metadata": {},
   "outputs": [],
   "source": [
    "# Generates public and private keys\n",
    "def generate_key_pair(p, q):\n",
    "    # checks if p and q are prime\n",
    "    if not (is_prime(p) and is_prime(q)):\n",
    "        raise ValueError('Both numbers must be prime.')\n",
    "    \n",
    "    # checks if p and q are not equal\n",
    "    elif p == q:\n",
    "        raise ValueError('p and q cannot be equal.')\n",
    "    \n",
    "    # n is the modulus for the public and private keys\n",
    "    n = p * q\n",
    "    \n",
    "    # phi is the totient of n\n",
    "    phi = (p - 1) * (q - 1)\n",
    "    \n",
    "    # chooses a random number e such that 1 < e < phi and e is coprime with phi\n",
    "    e = random.randrange(1, phi)\n",
    "    \n",
    "    # checks if e and phi are coprime\n",
    "    g = gcd(e, phi)\n",
    "    \n",
    "    # if e and phi are not coprime, choose another e. if e and phi are coprime, their GCD is 1\n",
    "    while g != 1:\n",
    "        e = random.randrange(1, phi)\n",
    "        g = gcd(e, phi)\n",
    "    \n",
    "    # calculates the modular inverse of e mod phi\n",
    "    d = multiplicative_inverse(e, phi)\n",
    "    \n",
    "    # returns the public and private keys\n",
    "    return ((e, n), (d, n))"
   ]
  },
  {
   "cell_type": "code",
   "execution_count": 22,
   "metadata": {},
   "outputs": [],
   "source": [
    "# Encrypts plaintext using public key\n",
    "def encrypt(public_key, plaintext):\n",
    "    # unpacks the public key\n",
    "    key, n = public_key\n",
    "    \n",
    "    # converts each character in the plaintext to its ASCII value and raises it to the power of the key,\n",
    "    # then takes the modulus of n\n",
    "    cipher = [(ord(char) ** key) % n for char in plaintext]\n",
    "    return cipher"
   ]
  },
  {
   "cell_type": "code",
   "execution_count": 23,
   "metadata": {},
   "outputs": [],
   "source": [
    "# Decrypts ciphertext using private key\n",
    "def decrypt(private_key, ciphertext):\n",
    "    # unpacks the private key\n",
    "    key, n = private_key\n",
    "    \n",
    "    # converts each character in the ciphertext to its ASCII value and raises it to the power of the key,\n",
    "    # then takes the modulus of n\n",
    "    plain = [chr((char ** key) % n) for char in ciphertext]\n",
    "    return ''.join(plain)"
   ]
  },
  {
   "cell_type": "markdown",
   "metadata": {},
   "source": [
    "### **GUI Functions**"
   ]
  },
  {
   "cell_type": "code",
   "execution_count": 24,
   "metadata": {},
   "outputs": [],
   "source": [
    "# Generates keys and displays them\n",
    "def generate_keys():\n",
    "    try:\n",
    "        p = int(entry_prime1.get())\n",
    "        q = int(entry_prime2.get())\n",
    "        public, private = generate_key_pair(p, q)\n",
    "        public_key_var.set(f\"Public Key: {public}\")\n",
    "        private_key_var.set(f\"Private Key: {private}\")\n",
    "        global public_key, private_key\n",
    "        public_key, private_key = public, private\n",
    "    except ValueError as ve:\n",
    "        messagebox.showerror(\"Error\", str(ve))\n",
    "    except Exception as e:\n",
    "        messagebox.showerror(\"Error\", \"Invalid input or key generation failed.\")"
   ]
  },
  {
   "cell_type": "code",
   "execution_count": 25,
   "metadata": {},
   "outputs": [],
   "source": [
    "# Encrypts plaintext and displays ciphertext\n",
    "def encrypt_message():\n",
    "    plaintext = entry_plaintext.get()\n",
    "    if not public_key:\n",
    "        messagebox.showerror(\"Error\", \"Please generate keys first.\")\n",
    "        return\n",
    "    encrypted_msg = encrypt(public_key, plaintext)\n",
    "    encrypted_msg_str = ''.join(map(lambda x: str(x).zfill(4), encrypted_msg))  # Ensure each number is 4 digits\n",
    "    entry_ciphertext.delete(0, tk.END)\n",
    "    entry_ciphertext.insert(0, encrypted_msg_str)\n",
    "    encryption_status.config(text=\"Encryption Successful.\")\n",
    "    decryption_status.config(text=\"\") # Clear decryption status"
   ]
  },
  {
   "cell_type": "code",
   "execution_count": 26,
   "metadata": {},
   "outputs": [],
   "source": [
    "# Decrypts ciphertext and displays plaintext\n",
    "def decrypt_message():\n",
    "    ciphertext_str = entry_ciphertext.get()\n",
    "    try:\n",
    "        ciphertext = [int(ciphertext_str[i:i+4]) for i in range(0, len(ciphertext_str), 4)]  # Ensure correct splitting\n",
    "    except ValueError:\n",
    "        messagebox.showerror(\"Error\", \"Invalid ciphertext. Please enter a valid integer sequence.\")\n",
    "        return\n",
    "    if not private_key:\n",
    "        messagebox.showerror(\"Error\", \"Please generate keys first.\")\n",
    "        return\n",
    "    decrypted_msg = decrypt(private_key, ciphertext)\n",
    "    entry_plaintext.delete(0, tk.END)\n",
    "    entry_plaintext.insert(0, decrypted_msg)\n",
    "    decryption_status.config(text=\"Decryption Successful.\")\n",
    "    encryption_status.config(text=\"\")  # Clear encryption status"
   ]
  },
  {
   "cell_type": "code",
   "execution_count": 27,
   "metadata": {},
   "outputs": [
    {
     "data": {
      "text/plain": [
       "''"
      ]
     },
     "execution_count": 27,
     "metadata": {},
     "output_type": "execute_result"
    }
   ],
   "source": [
    "# Initialize Tkinter window\n",
    "root = tk.Tk()\n",
    "root.title(\"RSA Encryption/Decryption Tool\")"
   ]
  },
  {
   "cell_type": "code",
   "execution_count": 28,
   "metadata": {},
   "outputs": [],
   "source": [
    "def set_dark_theme():\n",
    "    root.config(bg=\"#282828\")  # Set background color\n",
    "    root.tk_setPalette(background=\"#282828\", foreground=\"white\", activeBackground=\"#505050\", activeForeground=\"white\")  # Set palette colors\n",
    "\n",
    "    # Update widget colors\n",
    "    for widget in root.winfo_children():\n",
    "        if isinstance(widget, tk.Label) or isinstance(widget, tk.Entry):\n",
    "            widget.config(bg=\"#282828\", fg=\"white\")  # Set label and entry colors\n",
    "        elif isinstance(widget, tk.Button):\n",
    "            widget.config(bg=\"#505050\", fg=\"white\", activebackground=\"#707070\", activeforeground=\"white\")  # Set button colors\n",
    "        elif isinstance(widget, tk.Toplevel):\n",
    "            widget.config(bg=\"#282828\")  # Set Toplevel window background color"
   ]
  },
  {
   "cell_type": "code",
   "execution_count": 29,
   "metadata": {},
   "outputs": [],
   "source": [
    "set_dark_theme()"
   ]
  },
  {
   "cell_type": "code",
   "execution_count": 30,
   "metadata": {},
   "outputs": [],
   "source": [
    "# Prime number input fields\n",
    "tk.Label(root, text=\"Prime 1:\").grid(row=0, column=0)\n",
    "entry_prime1 = tk.Entry(root)\n",
    "entry_prime1.grid(row=0, column=1)\n",
    "\n",
    "tk.Label(root, text=\"Prime 2:\").grid(row=0, column=2)\n",
    "entry_prime2 = tk.Entry(root)\n",
    "entry_prime2.grid(row=0, column=3)\n",
    "\n",
    "# Generate keys button\n",
    "btn_generate_keys = tk.Button(root, text=\"Generate Keys\", command=generate_keys)\n",
    "btn_generate_keys.grid(row=0, column=4)\n",
    "\n",
    "# Display keys\n",
    "public_key_var = tk.StringVar()\n",
    "private_key_var = tk.StringVar()\n",
    "tk.Label(root, textvariable=public_key_var).grid(row=1, columnspan=5)\n",
    "tk.Label(root, textvariable=private_key_var).grid(row=2, columnspan=5)"
   ]
  },
  {
   "cell_type": "code",
   "execution_count": 31,
   "metadata": {},
   "outputs": [],
   "source": [
    "# Plaintext input field\n",
    "tk.Label(root, text=\"Plaintext:\").grid(row=3, column=0)\n",
    "entry_plaintext = tk.Entry(root, width=50)\n",
    "entry_plaintext.grid(row=3, column=1, columnspan=3)\n",
    "\n",
    "# Encrypt button\n",
    "btn_encrypt = tk.Button(root, text=\"Encrypt\", command=encrypt_message)\n",
    "btn_encrypt.grid(row=3, column=4)\n",
    "\n",
    "# Ciphertext input field\n",
    "tk.Label(root, text=\"Ciphertext:\").grid(row=4, column=0)\n",
    "entry_ciphertext = tk.Entry(root, width=50)\n",
    "entry_ciphertext.grid(row=4, column=1, columnspan=3)\n",
    "\n",
    "# Decrypt button\n",
    "btn_decrypt = tk.Button(root, text=\"Decrypt\", command=decrypt_message)\n",
    "btn_decrypt.grid(row=4, column=4)\n",
    "\n",
    "# Encryption and decryption status labels\n",
    "encryption_status = tk.Label(root, text=\"\")\n",
    "encryption_status.grid(row=5, columnspan=5)\n",
    "\n",
    "decryption_status = tk.Label(root, text=\"\")\n",
    "decryption_status.grid(row=6, columnspan=5)"
   ]
  },
  {
   "cell_type": "code",
   "execution_count": 32,
   "metadata": {},
   "outputs": [],
   "source": [
    "# Run the application\n",
    "public_key = None\n",
    "private_key = None\n",
    "root.mainloop()"
   ]
  }
 ],
 "metadata": {
  "kernelspec": {
   "display_name": "Python 3",
   "language": "python",
   "name": "python3"
  },
  "language_info": {
   "codemirror_mode": {
    "name": "ipython",
    "version": 3
   },
   "file_extension": ".py",
   "mimetype": "text/x-python",
   "name": "python",
   "nbconvert_exporter": "python",
   "pygments_lexer": "ipython3",
   "version": "3.12.0"
  }
 },
 "nbformat": 4,
 "nbformat_minor": 2
}
